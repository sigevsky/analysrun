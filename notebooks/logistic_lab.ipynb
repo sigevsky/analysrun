{
 "cells": [
  {
   "cell_type": "code",
   "execution_count": 1,
   "metadata": {},
   "outputs": [
    {
     "name": "stdout",
     "output_type": "stream",
     "text": [
      "Collecting neo4j-driver\n",
      "  Downloading https://files.pythonhosted.org/packages/77/ac/b8b9dbe47062457ec9fa3f57b62198243869b33144218d40a03c7c25c170/neo4j-driver-1.7.2.tar.gz\n",
      "Collecting neobolt<2,>=1.7.4 (from neo4j-driver)\n",
      "\u001b[?25l  Downloading https://files.pythonhosted.org/packages/ba/02/641c5241db092f75bce1334cb728d3fb48f4dddc5d21401fe94a5ed636ad/neobolt-1.7.4.tar.gz (182kB)\n",
      "\u001b[K    100% |████████████████████████████████| 184kB 1.8MB/s ta 0:00:01\n",
      "\u001b[?25hCollecting neotime<2,>=1.7.1 (from neo4j-driver)\n",
      "  Downloading https://files.pythonhosted.org/packages/0b/7e/ca368a8d8e288be1352d4e2df35da1e01f8aaffbf526695df71630bcb8a6/neotime-1.7.4.tar.gz\n",
      "Requirement already satisfied: pytz in /opt/conda/lib/python3.7/site-packages (from neotime<2,>=1.7.1->neo4j-driver) (2018.9)\n",
      "Requirement already satisfied: six in /opt/conda/lib/python3.7/site-packages (from neotime<2,>=1.7.1->neo4j-driver) (1.12.0)\n",
      "Building wheels for collected packages: neo4j-driver, neobolt, neotime\n",
      "  Building wheel for neo4j-driver (setup.py) ... \u001b[?25ldone\n",
      "\u001b[?25h  Stored in directory: /home/jovyan/.cache/pip/wheels/50/b5/17/5972f7821c48b83217a47da99387d1f2d67903357a529e752c\n",
      "  Building wheel for neobolt (setup.py) ... \u001b[?25ldone\n",
      "\u001b[?25h  Stored in directory: /home/jovyan/.cache/pip/wheels/29/15/1f/a2d381d5186d84b524791cc3eff45e0e01645a8412e20a1658\n",
      "  Building wheel for neotime (setup.py) ... \u001b[?25ldone\n",
      "\u001b[?25h  Stored in directory: /home/jovyan/.cache/pip/wheels/d4/b4/c4/ab867cd0ac9e667f8cd269f9364fd1cb8ee75fe50f5ce97c79\n",
      "Successfully built neo4j-driver neobolt neotime\n",
      "Installing collected packages: neobolt, neotime, neo4j-driver\n",
      "Successfully installed neo4j-driver-1.7.2 neobolt-1.7.4 neotime-1.7.4\n",
      "Note: you may need to restart the kernel to use updated packages.\n"
     ]
    }
   ],
   "source": [
    "pip install neo4j-driver"
   ]
  },
  {
   "cell_type": "code",
   "execution_count": 2,
   "metadata": {},
   "outputs": [],
   "source": [
    "from neo4j import GraphDatabase, basic_auth\n",
    "import pandas as pd\n",
    "from sklearn.linear_model import LogisticRegression\n",
    "from sklearn.preprocessing import OrdinalEncoder\n",
    "from sklearn.model_selection import train_test_split\n",
    "import numpy as np\n",
    "\n",
    "db_location = \"bolt://neo4j:7687\"\n",
    "username = \"neo4j\"\n",
    "password = \"qwerty\"\n",
    "\n",
    "query = \"\"\"\n",
    "        MATCH (p:Person)-[sm:SMOKES]->(t:Tobacco), (p)-[lv:LIVES]->(s:State)\n",
    "        RETURN s.name as state_name, p.gender as gender, p.age as age, t.name as tobacco\n",
    "        \"\"\"\n",
    "\n",
    "\n",
    "def get_dataset(tx):\n",
    "    db_res = tx.run(query)\n",
    "    training_data = pd.DataFrame([r.values() for r in db_res], columns=db_res.keys())\n",
    "    return training_data\n",
    "\n",
    "\n",
    "def is_tobacco_of(tobacco: str):\n",
    "    def go(val: str):\n",
    "        return tobacco == val\n",
    "    return go\n"
   ]
  },
  {
   "cell_type": "code",
   "execution_count": 3,
   "metadata": {},
   "outputs": [
    {
     "data": {
      "text/html": [
       "<div>\n",
       "<style scoped>\n",
       "    .dataframe tbody tr th:only-of-type {\n",
       "        vertical-align: middle;\n",
       "    }\n",
       "\n",
       "    .dataframe tbody tr th {\n",
       "        vertical-align: top;\n",
       "    }\n",
       "\n",
       "    .dataframe thead th {\n",
       "        text-align: right;\n",
       "    }\n",
       "</style>\n",
       "<table border=\"1\" class=\"dataframe\">\n",
       "  <thead>\n",
       "    <tr style=\"text-align: right;\">\n",
       "      <th></th>\n",
       "      <th>state_name</th>\n",
       "      <th>gender</th>\n",
       "      <th>age</th>\n",
       "      <th>tobacco</th>\n",
       "    </tr>\n",
       "  </thead>\n",
       "  <tbody>\n",
       "    <tr>\n",
       "      <th>11890</th>\n",
       "      <td>North Carolina</td>\n",
       "      <td>Female</td>\n",
       "      <td>29</td>\n",
       "      <td>Cigarette</td>\n",
       "    </tr>\n",
       "    <tr>\n",
       "      <th>5435</th>\n",
       "      <td>Kansas</td>\n",
       "      <td>Male</td>\n",
       "      <td>25</td>\n",
       "      <td>Cigarette</td>\n",
       "    </tr>\n",
       "    <tr>\n",
       "      <th>17342</th>\n",
       "      <td>Wyoming</td>\n",
       "      <td>Male</td>\n",
       "      <td>23</td>\n",
       "      <td>Cigarette</td>\n",
       "    </tr>\n",
       "    <tr>\n",
       "      <th>7848</th>\n",
       "      <td>Maryland</td>\n",
       "      <td>Male</td>\n",
       "      <td>37</td>\n",
       "      <td>Cigar</td>\n",
       "    </tr>\n",
       "    <tr>\n",
       "      <th>14783</th>\n",
       "      <td>South Dakota</td>\n",
       "      <td>Male</td>\n",
       "      <td>22</td>\n",
       "      <td>Cigarette</td>\n",
       "    </tr>\n",
       "  </tbody>\n",
       "</table>\n",
       "</div>"
      ],
      "text/plain": [
       "           state_name  gender  age    tobacco\n",
       "11890  North Carolina  Female   29  Cigarette\n",
       "5435           Kansas    Male   25  Cigarette\n",
       "17342         Wyoming    Male   23  Cigarette\n",
       "7848         Maryland    Male   37      Cigar\n",
       "14783    South Dakota    Male   22  Cigarette"
      ]
     },
     "execution_count": 3,
     "metadata": {},
     "output_type": "execute_result"
    }
   ],
   "source": [
    "db = GraphDatabase.driver(db_location, auth=basic_auth(username, password))\n",
    "feature_encoder = OrdinalEncoder()\n",
    "\n",
    "with db.session() as session:\n",
    "    df = session.read_transaction(get_dataset)\n",
    "\n",
    "df.sample(frac=1).head()"
   ]
  },
  {
   "cell_type": "code",
   "execution_count": 4,
   "metadata": {},
   "outputs": [
    {
     "data": {
      "text/plain": [
       "array([[ 0.,  0., 27.],\n",
       "       [ 0.,  0., 29.],\n",
       "       [ 0.,  0., 26.],\n",
       "       ...,\n",
       "       [50.,  1., 58.],\n",
       "       [50.,  1., 52.],\n",
       "       [50.,  1., 56.]])"
      ]
     },
     "execution_count": 4,
     "metadata": {},
     "output_type": "execute_result"
    }
   ],
   "source": [
    "        y_data = df['tobacco'].apply(is_tobacco_of('Cigar'))\n",
    "        X_data = np.column_stack((feature_encoder.fit_transform(df.filter(items=['state_name', 'gender'])), df['age'].values))\n",
    "X_data"
   ]
  },
  {
   "cell_type": "code",
   "execution_count": 5,
   "metadata": {},
   "outputs": [
    {
     "data": {
      "text/plain": [
       "0.8774815655133296"
      ]
     },
     "execution_count": 5,
     "metadata": {},
     "output_type": "execute_result"
    }
   ],
   "source": [
    "        X_train, X_test, y_train, y_test = train_test_split(X_data, y_data, test_size=0.10, random_state=42)\n",
    "        logistic_model = LogisticRegression(solver='lbfgs')\n",
    "        logistic_model.fit(X_train, y_train)\n",
    "        y_pred = logistic_model.predict(X_test)\n",
    "        res = len(y_pred[y_pred == y_test]) / len(y_pred)\n",
    "res"
   ]
  },
  {
   "cell_type": "code",
   "execution_count": 6,
   "metadata": {},
   "outputs": [],
   "source": [
    "def predict_logistic(model: LogisticRegression, encoder: OrdinalEncoder, df: pd.DataFrame):\n",
    "    return pd.DataFrame(columns=[\"does person smoke specified tobacco\"],\n",
    "                        data=model.predict(np.column_stack((encoder.transform(df[['state_name', 'gender']]), df['age'].values))))"
   ]
  },
  {
   "cell_type": "code",
   "execution_count": 7,
   "metadata": {},
   "outputs": [
    {
     "data": {
      "text/html": [
       "<div>\n",
       "<style scoped>\n",
       "    .dataframe tbody tr th:only-of-type {\n",
       "        vertical-align: middle;\n",
       "    }\n",
       "\n",
       "    .dataframe tbody tr th {\n",
       "        vertical-align: top;\n",
       "    }\n",
       "\n",
       "    .dataframe thead th {\n",
       "        text-align: right;\n",
       "    }\n",
       "</style>\n",
       "<table border=\"1\" class=\"dataframe\">\n",
       "  <thead>\n",
       "    <tr style=\"text-align: right;\">\n",
       "      <th></th>\n",
       "      <th>does person smoke specified tobacco</th>\n",
       "    </tr>\n",
       "  </thead>\n",
       "  <tbody>\n",
       "    <tr>\n",
       "      <th>0</th>\n",
       "      <td>False</td>\n",
       "    </tr>\n",
       "    <tr>\n",
       "      <th>1</th>\n",
       "      <td>True</td>\n",
       "    </tr>\n",
       "  </tbody>\n",
       "</table>\n",
       "</div>"
      ],
      "text/plain": [
       "   does person smoke specified tobacco\n",
       "0                                False\n",
       "1                                 True"
      ]
     },
     "execution_count": 7,
     "metadata": {},
     "output_type": "execute_result"
    }
   ],
   "source": [
    "predict_logistic(logistic_model, feature_encoder, pd.DataFrame({'state_name': ['Alabama', 'Georgia'],\n",
    "                                                                'gender': ['Female', 'Male'],\n",
    "                                                                'age': [33, 55]\n",
    "                                                                }))"
   ]
  }
 ],
 "metadata": {
  "kernelspec": {
   "display_name": "Python 3",
   "language": "python",
   "name": "python3"
  },
  "language_info": {
   "codemirror_mode": {
    "name": "ipython",
    "version": 3
   },
   "file_extension": ".py",
   "mimetype": "text/x-python",
   "name": "python",
   "nbconvert_exporter": "python",
   "pygments_lexer": "ipython3",
   "version": "3.7.1"
  }
 },
 "nbformat": 4,
 "nbformat_minor": 1
}
