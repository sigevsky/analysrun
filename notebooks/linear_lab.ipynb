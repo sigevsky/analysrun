{
 "cells": [
  {
   "cell_type": "code",
   "execution_count": 39,
   "metadata": {},
   "outputs": [
    {
     "name": "stdout",
     "output_type": "stream",
     "text": [
      "Requirement already satisfied: neo4j-driver in /opt/conda/lib/python3.7/site-packages (1.7.2)\n",
      "Requirement already satisfied: neotime<2,>=1.7.1 in /opt/conda/lib/python3.7/site-packages (from neo4j-driver) (1.7.4)\n",
      "Requirement already satisfied: neobolt<2,>=1.7.4 in /opt/conda/lib/python3.7/site-packages (from neo4j-driver) (1.7.4)\n",
      "Requirement already satisfied: six in /opt/conda/lib/python3.7/site-packages (from neotime<2,>=1.7.1->neo4j-driver) (1.12.0)\n",
      "Requirement already satisfied: pytz in /opt/conda/lib/python3.7/site-packages (from neotime<2,>=1.7.1->neo4j-driver) (2018.9)\n",
      "Note: you may need to restart the kernel to use updated packages.\n"
     ]
    }
   ],
   "source": [
    "pip install neo4j-driver"
   ]
  },
  {
   "cell_type": "code",
   "execution_count": 40,
   "metadata": {},
   "outputs": [],
   "source": [
    "from neo4j import GraphDatabase, basic_auth\n",
    "import pandas as pd\n",
    "from sklearn.linear_model import LogisticRegression, LinearRegression\n",
    "from sklearn.preprocessing import OrdinalEncoder\n",
    "from sklearn.model_selection import train_test_split\n",
    "import numpy as np\n",
    "\n",
    "db_location = \"bolt://neo4j:7687\"\n",
    "username = \"neo4j\"\n",
    "password = \"qwerty\"\n",
    "\n",
    "query = \"\"\"\n",
    "        MATCH (p:Person)-[sm:SMOKES]->(t:Tobacco), (p)-[lv:LIVES]->(s:State)\n",
    "        RETURN s.name as state_name, p.gender as gender, p.age as age, t.name as tobacco\n",
    "        \"\"\"\n",
    "\n",
    "\n",
    "def get_dataset(tx):\n",
    "    db_res = tx.run(query)\n",
    "    training_data = pd.DataFrame([r.values() for r in db_res], columns=db_res.keys())\n",
    "    return training_data"
   ]
  },
  {
   "cell_type": "code",
   "execution_count": 41,
   "metadata": {},
   "outputs": [
    {
     "data": {
      "text/html": [
       "<div>\n",
       "<style scoped>\n",
       "    .dataframe tbody tr th:only-of-type {\n",
       "        vertical-align: middle;\n",
       "    }\n",
       "\n",
       "    .dataframe tbody tr th {\n",
       "        vertical-align: top;\n",
       "    }\n",
       "\n",
       "    .dataframe thead th {\n",
       "        text-align: right;\n",
       "    }\n",
       "</style>\n",
       "<table border=\"1\" class=\"dataframe\">\n",
       "  <thead>\n",
       "    <tr style=\"text-align: right;\">\n",
       "      <th></th>\n",
       "      <th>state_name</th>\n",
       "      <th>gender</th>\n",
       "      <th>age</th>\n",
       "      <th>tobacco</th>\n",
       "    </tr>\n",
       "  </thead>\n",
       "  <tbody>\n",
       "    <tr>\n",
       "      <th>3856</th>\n",
       "      <td>Florida</td>\n",
       "      <td>Male</td>\n",
       "      <td>23</td>\n",
       "      <td>Cigarette</td>\n",
       "    </tr>\n",
       "    <tr>\n",
       "      <th>13677</th>\n",
       "      <td>Pennsylvania</td>\n",
       "      <td>Male</td>\n",
       "      <td>30</td>\n",
       "      <td>Cigarette</td>\n",
       "    </tr>\n",
       "    <tr>\n",
       "      <th>14057</th>\n",
       "      <td>Rhode Island</td>\n",
       "      <td>Male</td>\n",
       "      <td>30</td>\n",
       "      <td>Cigarette</td>\n",
       "    </tr>\n",
       "    <tr>\n",
       "      <th>14</th>\n",
       "      <td>Alabama</td>\n",
       "      <td>Male</td>\n",
       "      <td>19</td>\n",
       "      <td>Smokeless Tobacco</td>\n",
       "    </tr>\n",
       "    <tr>\n",
       "      <th>14329</th>\n",
       "      <td>South Carolina</td>\n",
       "      <td>Female</td>\n",
       "      <td>34</td>\n",
       "      <td>Cigarette</td>\n",
       "    </tr>\n",
       "  </tbody>\n",
       "</table>\n",
       "</div>"
      ],
      "text/plain": [
       "           state_name  gender  age            tobacco\n",
       "3856          Florida    Male   23          Cigarette\n",
       "13677    Pennsylvania    Male   30          Cigarette\n",
       "14057    Rhode Island    Male   30          Cigarette\n",
       "14            Alabama    Male   19  Smokeless Tobacco\n",
       "14329  South Carolina  Female   34          Cigarette"
      ]
     },
     "execution_count": 41,
     "metadata": {},
     "output_type": "execute_result"
    }
   ],
   "source": [
    "db = GraphDatabase.driver(db_location, auth=basic_auth(username, password))\n",
    "feature_encoder = OrdinalEncoder()\n",
    "linear_model = LinearRegression()\n",
    "\n",
    "with db.session() as session:\n",
    "    df = session.read_transaction(get_dataset)\n",
    "\n",
    "df.sample(frac=1).head()"
   ]
  },
  {
   "cell_type": "code",
   "execution_count": 42,
   "metadata": {},
   "outputs": [
    {
     "data": {
      "text/html": [
       "<div>\n",
       "<style scoped>\n",
       "    .dataframe tbody tr th:only-of-type {\n",
       "        vertical-align: middle;\n",
       "    }\n",
       "\n",
       "    .dataframe tbody tr th {\n",
       "        vertical-align: top;\n",
       "    }\n",
       "\n",
       "    .dataframe thead th {\n",
       "        text-align: right;\n",
       "    }\n",
       "</style>\n",
       "<table border=\"1\" class=\"dataframe\">\n",
       "  <thead>\n",
       "    <tr style=\"text-align: right;\">\n",
       "      <th></th>\n",
       "      <th>0</th>\n",
       "      <th>1</th>\n",
       "      <th>2</th>\n",
       "    </tr>\n",
       "  </thead>\n",
       "  <tbody>\n",
       "    <tr>\n",
       "      <th>0</th>\n",
       "      <td>0.0</td>\n",
       "      <td>1.0</td>\n",
       "      <td>3.0</td>\n",
       "    </tr>\n",
       "    <tr>\n",
       "      <th>1</th>\n",
       "      <td>0.0</td>\n",
       "      <td>1.0</td>\n",
       "      <td>3.0</td>\n",
       "    </tr>\n",
       "    <tr>\n",
       "      <th>2</th>\n",
       "      <td>0.0</td>\n",
       "      <td>1.0</td>\n",
       "      <td>3.0</td>\n",
       "    </tr>\n",
       "    <tr>\n",
       "      <th>3</th>\n",
       "      <td>0.0</td>\n",
       "      <td>1.0</td>\n",
       "      <td>3.0</td>\n",
       "    </tr>\n",
       "    <tr>\n",
       "      <th>4</th>\n",
       "      <td>0.0</td>\n",
       "      <td>1.0</td>\n",
       "      <td>3.0</td>\n",
       "    </tr>\n",
       "  </tbody>\n",
       "</table>\n",
       "</div>"
      ],
      "text/plain": [
       "     0    1    2\n",
       "0  0.0  1.0  3.0\n",
       "1  0.0  1.0  3.0\n",
       "2  0.0  1.0  3.0\n",
       "3  0.0  1.0  3.0\n",
       "4  0.0  1.0  3.0"
      ]
     },
     "execution_count": 42,
     "metadata": {},
     "output_type": "execute_result"
    }
   ],
   "source": [
    "y_data = df['age'].values\n",
    "X_data = feature_encoder.fit_transform(df.filter(items=['state_name', 'gender', 'tobacco']))\n",
    "\n",
    "pd.DataFrame(X_data).head()"
   ]
  },
  {
   "cell_type": "code",
   "execution_count": 43,
   "metadata": {},
   "outputs": [
    {
     "data": {
      "text/plain": [
       "{'Accuracy for 3 years': 0.4521489971346705,\n",
       " 'Accuracy for 5 years': 0.6756446991404012,\n",
       " 'Accuracy for 7 years': 0.828080229226361,\n",
       " 'Accuracy for 9 years': 0.9083094555873925}"
      ]
     },
     "execution_count": 43,
     "metadata": {},
     "output_type": "execute_result"
    }
   ],
   "source": [
    "X_train, X_test, y_train, y_test = train_test_split(X_data, y_data, test_size=0.10, random_state=42)\n",
    "\n",
    "linear_model.fit(X_train, y_train)\n",
    "\n",
    "y_pred = linear_model.predict(X_test)\n",
    "res = {f'Accuracy for {i} years': len(y_pred[np.abs(y_pred - y_test) < i]) / len(y_pred) for i in range(3, 10, 2)}\n",
    "res"
   ]
  },
  {
   "cell_type": "code",
   "execution_count": 44,
   "metadata": {},
   "outputs": [],
   "source": [
    "def predict_linear(model: LinearRegression, encoder: OrdinalEncoder, df: pd.DataFrame):\n",
    "    return model.predict(encoder.transform(df.filter(items=['state_name', 'gender', 'tobacco'])))"
   ]
  },
  {
   "cell_type": "code",
   "execution_count": 45,
   "metadata": {},
   "outputs": [
    {
     "data": {
      "text/plain": [
       "array([21.15000994])"
      ]
     },
     "execution_count": 45,
     "metadata": {},
     "output_type": "execute_result"
    }
   ],
   "source": [
    "predict_linear(linear_model, feature_encoder, pd.DataFrame({'state_name': ['Alaska'],\n",
    "                                                            'gender': ['Female'],\n",
    "                                                            'tobacco': ['Smokeless Tobacco']}))"
   ]
  },
  {
   "cell_type": "code",
   "execution_count": null,
   "metadata": {},
   "outputs": [],
   "source": []
  }
 ],
 "metadata": {
  "kernelspec": {
   "display_name": "Python 3",
   "language": "python",
   "name": "python3"
  },
  "language_info": {
   "codemirror_mode": {
    "name": "ipython",
    "version": 3
   },
   "file_extension": ".py",
   "mimetype": "text/x-python",
   "name": "python",
   "nbconvert_exporter": "python",
   "pygments_lexer": "ipython3",
   "version": "3.7.1"
  }
 },
 "nbformat": 4,
 "nbformat_minor": 2
}
